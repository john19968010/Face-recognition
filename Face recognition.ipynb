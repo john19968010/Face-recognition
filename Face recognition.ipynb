{
 "cells": [
  {
   "cell_type": "code",
   "execution_count": null,
   "metadata": {},
   "outputs": [],
   "source": [
    "#https://www.netadmin.com.tw/netadmin/zh-tw/technology/CDAFF5E13BEF4B0D8FF1199F43022D75"
   ]
  },
  {
   "cell_type": "code",
   "execution_count": 1,
   "metadata": {},
   "outputs": [],
   "source": [
    "import sys,os,dlib,glob\n",
    "import numpy as np\n",
    "from skimage import io\n",
    "import imutils\n",
    "import cv2"
   ]
  },
  {
   "cell_type": "code",
   "execution_count": 2,
   "metadata": {},
   "outputs": [
    {
     "name": "stdout",
     "output_type": "stream",
     "text": [
      "錯誤\n"
     ]
    }
   ],
   "source": [
    "#sys.argv是一個list，若長度不為2，代表輸入的參數有誤，或是缺乏圖片名稱\n",
    "if len(sys.argv) != 2:\n",
    "    print(\"錯誤\")"
   ]
  },
  {
   "cell_type": "markdown",
   "metadata": {},
   "source": [
    "### 建立路徑及模型檢測器"
   ]
  },
  {
   "cell_type": "code",
   "execution_count": 9,
   "metadata": {},
   "outputs": [],
   "source": [
    "#人臉圖片路徑\n",
    "face_data_path = \"./resource\"\n",
    "#要辨識的圖片名稱\n",
    "img_name = sys.argv[ 1]\n",
    "#載入人臉檢測器\n",
    "detector = dlib.get_frontal_face_detector()\n",
    "#人臉68特徵點模型的路徑及檢測器(要先到github下載檔案)\n",
    "shape_predictor = dlib.shape_predictor(\"shape_predictor_68_face_landmarks.dat\")\n",
    "#人臉辨識模型及檢測器(要先到github下載檔案)\n",
    "face_rec_model = dlib.face_recognition_model_v1(\"dlib_face_recognition_resnet_model_v1.dat\")\n",
    "#人臉描述list\n",
    "descriptors = []\n",
    "#候選人臉名稱list\n",
    "candidate = []"
   ]
  },
  {
   "cell_type": "markdown",
   "metadata": {},
   "source": [
    "### 人臉與辨識目標的特徵點偵測.摘取和儲存"
   ]
  },
  {
   "cell_type": "code",
   "execution_count": 11,
   "metadata": {},
   "outputs": [],
   "source": [
    "#讀取人臉face_data_path裡的所有圖片,os.path.join用於拼接檔案路徑\n",
    "for photo in glob.glob(os.path.join(face_data_path, \"*.jpg\")):\n",
    "    base = os.path.basename(photo)\n",
    "#os.path.splitext()用於分離檔名與副檔名\n",
    "    candidate.append(os.path.splitext(base)[ 0])\n",
    "    img = io.imread(photo)\n",
    "    #人臉偵測\n",
    "    dets = detector(img, 1)\n",
    "    \n",
    "    for i,j in enumerate(dets):\n",
    "        #68特徵點偵測\n",
    "        shape = shape_predictor(img, j)\n",
    "        \n",
    "        #128特徵向量描述\n",
    "        face_descriptor = face_rec_model.compute_face_descriptor(img,shape)\n",
    "        \n",
    "        #轉換成numpy array格式\n",
    "        v = np.array(face_descriptor)\n",
    "        descriptors.append(v)"
   ]
  },
  {
   "cell_type": "code",
   "execution_count": 13,
   "metadata": {},
   "outputs": [],
   "source": [
    "#對要辨識的目標圖片做相同處理\n",
    "#讀取照片\n",
    "img = io.imread(img_name)\n",
    "#人臉偵測\n",
    "dets = detector(img, 1)\n",
    "\n",
    "distance = []\n",
    "\n",
    "for i,j in enumerate(dets):\n",
    "        #68特徵點偵測\n",
    "        shape = shape_predictor(img, j)\n",
    "        \n",
    "        #128特徵向量描述\n",
    "        face_descriptor = face_rec_model.compute_face_descriptor(img,shape)\n",
    "        \n",
    "        #轉換成numpy array格式\n",
    "        d_test = np.array(face_descriptor)\n",
    "        \n",
    "        #匡出人臉的四個頂點\n",
    "        x1 = j.left()\n",
    "        y1 = j.top()\n",
    "        x2 = j.right()\n",
    "        y2 = j.bottom()\n",
    "        #以方框(紅)匡出人臉\n",
    "        cv2.rectangle(img, (x1, y1), (x2, y2), ( 0, 255, 0), 4, cv2. LINE_AA)\n",
    "        \n",
    "        #計算歐式距離,線性運算函示\n",
    "        for i in descriptors:\n",
    "            dist_ = np.linalg.norm(i - d_test)\n",
    "            distance.append(dist_)"
   ]
  },
  {
   "cell_type": "code",
   "execution_count": null,
   "metadata": {},
   "outputs": [],
   "source": [
    "#zip函數將元素打包並存入dict(候選圖片,距離)\n",
    "candidate_distance_dict = dict( zip(candidate,distance))\n",
    "#接著將候選圖片及人名進行排序\n",
    "candidate_distance_dict_sorted = sorted(candidate_distance_dict.items(), key = lambda d:d[ 1])\n",
    "# 最短距離為辨識出的對象\n",
    "result = candidate_distance_dict_sorted[ 0][ 0]\n",
    "# 在方匡旁標上人名\n",
    "cv2.putText(img, result, (x1, y1), cv2. FONT_HERSHEY_SIMPLEX , 1, ( 255, 255, 255), 2, cv2. LINE_AA)\n",
    "\n",
    "img = imutils.resize(img, width = 500)\n",
    "img = cv2.cvtColor(img,cv2. COLOR_BGR2RGB)\n",
    "cv2.imshow( \"outcome\", img)\n",
    "\n",
    "cv2.waitKey( 0)\n",
    "cv2.destroyAllWindows()\n",
    "\n",
    "print(candidate_distance_dict_sorted)\n",
    "print(result)"
   ]
  }
 ],
 "metadata": {
  "kernelspec": {
   "display_name": "Python 3",
   "language": "python",
   "name": "python3"
  },
  "language_info": {
   "codemirror_mode": {
    "name": "ipython",
    "version": 3
   },
   "file_extension": ".py",
   "mimetype": "text/x-python",
   "name": "python",
   "nbconvert_exporter": "python",
   "pygments_lexer": "ipython3",
   "version": "3.7.6"
  }
 },
 "nbformat": 4,
 "nbformat_minor": 4
}
